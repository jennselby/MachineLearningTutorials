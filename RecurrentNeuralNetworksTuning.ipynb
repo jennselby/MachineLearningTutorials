{
  "nbformat": 4,
  "nbformat_minor": 0,
  "metadata": {
    "kernelspec": {
      "display_name": "Python 3",
      "language": "python",
      "name": "python3"
    },
    "language_info": {
      "codemirror_mode": {
        "name": "ipython",
        "version": 3
      },
      "file_extension": ".py",
      "mimetype": "text/x-python",
      "name": "python",
      "nbconvert_exporter": "python",
      "pygments_lexer": "ipython3",
      "version": "3.7.6"
    },
    "colab": {
      "name": "RecurrentNeuralNetworksGithub.ipynb",
      "provenance": []
    }
  },
  "cells": [
    {
      "cell_type": "markdown",
      "metadata": {
        "id": "UMDVeZ5GdGMt",
        "colab_type": "text"
      },
      "source": [
        "## Setup\n",
        "\n",
        "If you haven't already, please follow the [setup instructions](https://jennselby.github.io/MachineLearningCourseNotes/#setup-and-tools) to get all of the necessary software (Github is optional)."
      ]
    },
    {
      "cell_type": "markdown",
      "metadata": {
        "id": "ZJTBvKsDdGM9",
        "colab_type": "text"
      },
      "source": [
        "## Documentation/Sources\n",
        "* [Class Notes](https://jennselby.github.io/MachineLearningCourseNotes/#recurrent-neural-networks)\n",
        "* [https://machinelearningmastery.com/sequence-classification-lstm-recurrent-neural-networks-python-keras/](https://machinelearningmastery.com/sequence-classification-lstm-recurrent-neural-networks-python-keras/) for information on sequence classification with keras\n",
        "* [https://keras.io/](https://keras.io/) Keras API documentation\n",
        "* [Keras recurrent tutorial](https://github.com/Vict0rSch/deep_learning/tree/master/keras/recurrent)"
      ]
    },
    {
      "cell_type": "markdown",
      "metadata": {
        "id": "VIXtkRJUdGNK",
        "colab_type": "text"
      },
      "source": [
        "# Exercise Option 1: Tune an RNN on the IMDB classification problem\n",
        "\n",
        "## The IMDB Dataset\n",
        "The [IMDB dataset](https://keras.io/datasets/#imdb-movie-reviews-sentiment-classification) consists of movie reviews (x_train) that have been marked as positive or negative (y_train). See the [Word Vectors Tutorial](https://github.com/jennselby/MachineLearningTutorials/blob/master/WordVectors.ipynb) for more details on the IMDB dataset."
      ]
    },
    {
      "cell_type": "code",
      "metadata": {
        "id": "Inuacm-gdGNT",
        "colab_type": "code",
        "colab": {}
      },
      "source": [
        "from keras.datasets import imdb\n",
        "from keras.preprocessing import sequence"
      ],
      "execution_count": 0,
      "outputs": []
    },
    {
      "cell_type": "code",
      "metadata": {
        "id": "rSaPRf3jdGN6",
        "colab_type": "code",
        "colab": {}
      },
      "source": [
        "(imdb_x_train, imdb_y_train), (imdb_x_test, imdb_y_test) = imdb.load_data()"
      ],
      "execution_count": 0,
      "outputs": []
    },
    {
      "cell_type": "markdown",
      "metadata": {
        "id": "39utI19rdGOT",
        "colab_type": "text"
      },
      "source": [
        "For a standard keras model, every input has to be the same length, so we need to set some length after which we will cutoff the rest of the review. (We will also need to pad the shorter reviews with zeros to make them the same length)."
      ]
    },
    {
      "cell_type": "code",
      "metadata": {
        "id": "eESTV_w7dGOa",
        "colab_type": "code",
        "colab": {}
      },
      "source": [
        "cutoff = 500"
      ],
      "execution_count": 0,
      "outputs": []
    },
    {
      "cell_type": "code",
      "metadata": {
        "id": "oche1k7cdGOu",
        "colab_type": "code",
        "colab": {}
      },
      "source": [
        "imdb_x_train_padded = sequence.pad_sequences(imdb_x_train, maxlen=cutoff)\n",
        "imdb_x_test_padded = sequence.pad_sequences(imdb_x_test, maxlen=cutoff)"
      ],
      "execution_count": 0,
      "outputs": []
    },
    {
      "cell_type": "code",
      "metadata": {
        "id": "acUQcGOzdGPC",
        "colab_type": "code",
        "colab": {}
      },
      "source": [
        "imdb_index_offset = 3 # see https://stackoverflow.com/questions/42821330/restore-original-text-from-keras-s-imdb-dataset"
      ],
      "execution_count": 0,
      "outputs": []
    },
    {
      "cell_type": "markdown",
      "metadata": {
        "id": "p4nDtLSbdGPP",
        "colab_type": "text"
      },
      "source": [
        "## Classification"
      ]
    },
    {
      "cell_type": "code",
      "metadata": {
        "id": "C8OplPqsdGPV",
        "colab_type": "code",
        "colab": {}
      },
      "source": [
        "from keras.models import Sequential\n",
        "from keras.layers import Embedding, LSTM, Dense"
      ],
      "execution_count": 0,
      "outputs": []
    },
    {
      "cell_type": "markdown",
      "metadata": {
        "id": "Iu6SSVP1dGPn",
        "colab_type": "text"
      },
      "source": [
        "Define our model.\n",
        "\n",
        "Unlike last time, when we used convolutional layers, we're going to use an LSTM, a special type of recurrent network.\n",
        "\n",
        "Using recurrent networks means that rather than seeing these reviews as one input happening all at once, with the convolutional layers taking into account which words are next to each other, we are going to see them as a sequence of inputs, with one word occurring at each timestep."
      ]
    },
    {
      "cell_type": "code",
      "metadata": {
        "id": "5w_53JdvdGPq",
        "colab_type": "code",
        "colab": {}
      },
      "source": [
        "imdb_lstm_model = Sequential()\n",
        "imdb_lstm_model.add(Embedding(input_dim=len(imdb.get_word_index()) + imdb_index_offset,\n",
        "                              output_dim=100,\n",
        "                              input_length=cutoff))\n",
        "# return_sequences tells the LSTM to output the full sequence, for use by the next LSTM layer. The final\n",
        "# LSTM layer should return only the output sequence, for use in the Dense output layer\n",
        "imdb_lstm_model.add(LSTM(units=32, return_sequences=True))\n",
        "imdb_lstm_model.add(LSTM(units=32))\n",
        "imdb_lstm_model.add(Dense(units=1, activation='sigmoid')) # because at the end, we want one yes/no answer\n",
        "imdb_lstm_model.compile(loss='binary_crossentropy', optimizer='adam', metrics=['binary_accuracy'])"
      ],
      "execution_count": 0,
      "outputs": []
    },
    {
      "cell_type": "markdown",
      "metadata": {
        "id": "_j8hw_d4dGP3",
        "colab_type": "text"
      },
      "source": [
        "Train the model. __This takes 5-15 minutes. You might not want to re-run it unless you are testing out your own changes.__"
      ]
    },
    {
      "cell_type": "code",
      "metadata": {
        "id": "C53sOms-dGP7",
        "colab_type": "code",
        "colab": {},
        "outputId": "eb7a4eba-a3e7-486c-fc50-93fe542b37b1"
      },
      "source": [
        "imdb_lstm_model.fit(imdb_x_train_padded, imdb_y_train, epochs=1, batch_size=64)"
      ],
      "execution_count": 0,
      "outputs": [
        {
          "output_type": "stream",
          "text": [
            "Epoch 1/1\n",
            "25000/25000 [==============================] - 501s 20ms/step - loss: 0.3990 - binary_accuracy: 0.8142\n"
          ],
          "name": "stdout"
        },
        {
          "output_type": "execute_result",
          "data": {
            "text/plain": [
              "<keras.callbacks.History at 0x110387d30>"
            ]
          },
          "metadata": {
            "tags": []
          },
          "execution_count": 9
        }
      ]
    },
    {
      "cell_type": "markdown",
      "metadata": {
        "id": "ttftUbMudGQX",
        "colab_type": "text"
      },
      "source": [
        "Assess the model. __This takes 2-10 minutes. You might not want to re-run it unless you are testing out your own changes.__"
      ]
    },
    {
      "cell_type": "code",
      "metadata": {
        "id": "JDwZP1NjdGQd",
        "colab_type": "code",
        "colab": {},
        "outputId": "56016d99-71fd-47d0-90a4-39b4e8c08f28"
      },
      "source": [
        "imdb_lstm_scores = imdb_lstm_model.evaluate(imdb_x_test_padded, imdb_y_test)\n",
        "print('loss: {} accuracy: {}'.format(*imdb_lstm_scores))"
      ],
      "execution_count": 0,
      "outputs": [
        {
          "output_type": "stream",
          "text": [
            "25000/25000 [==============================] - 190s 8ms/step\n",
            "loss: 0.3043981187725067 accuracy: 0.87712\n"
          ],
          "name": "stdout"
        }
      ]
    },
    {
      "cell_type": "markdown",
      "metadata": {
        "id": "vtvb4cLIdGQt",
        "colab_type": "text"
      },
      "source": [
        "# Exercise Option 1\n",
        "\n",
        "Experiment with different model configurations from the one above. Try other recurrent layers, different numbers of layers, change some of the defaults. See [Keras Recurrent Layers](https://keras.io/layers/recurrent/)"
      ]
    },
    {
      "cell_type": "code",
      "metadata": {
        "id": "8uKemyLedGQw",
        "colab_type": "code",
        "colab": {}
      },
      "source": [
        ""
      ],
      "execution_count": 0,
      "outputs": []
    },
    {
      "cell_type": "code",
      "metadata": {
        "id": "DlwPhmgNdGQ6",
        "colab_type": "code",
        "colab": {}
      },
      "source": [
        ""
      ],
      "execution_count": 0,
      "outputs": []
    },
    {
      "cell_type": "code",
      "metadata": {
        "id": "CqeUgpacdGRC",
        "colab_type": "code",
        "colab": {}
      },
      "source": [
        ""
      ],
      "execution_count": 0,
      "outputs": []
    },
    {
      "cell_type": "code",
      "metadata": {
        "id": "V16EbrezdGRM",
        "colab_type": "code",
        "colab": {}
      },
      "source": [
        ""
      ],
      "execution_count": 0,
      "outputs": []
    },
    {
      "cell_type": "markdown",
      "metadata": {
        "id": "FG8koQfJdGRV",
        "colab_type": "text"
      },
      "source": [
        "# Exercise Option 2: Understand the Weight in RNNs\n",
        "\n",
        "## Exploring Simple Recurrent Layers\n",
        "\n",
        "Before we dive into something as complicated as LSTMs, Let's take a deeper look at simple recurrent layer weights."
      ]
    },
    {
      "cell_type": "code",
      "metadata": {
        "id": "FCriOET0dGRY",
        "colab_type": "code",
        "colab": {}
      },
      "source": [
        "import numpy\n",
        "from keras.layers import SimpleRNN\n",
        "from keras.models import Sequential\n",
        "from keras.layers import LSTM"
      ],
      "execution_count": 0,
      "outputs": []
    },
    {
      "cell_type": "markdown",
      "metadata": {
        "id": "Ncbg_bGxdGRg",
        "colab_type": "text"
      },
      "source": [
        "The neurons in the recurrent layer pass their output to the next layer, but also back to themselves. The input shape says that we'll be passing in one-dimensional inputs of unspecified length (the None is what makes it unspecified)."
      ]
    },
    {
      "cell_type": "code",
      "metadata": {
        "id": "xXXC921KdGRi",
        "colab_type": "code",
        "colab": {}
      },
      "source": [
        "one_unit_SRNN = Sequential()\n",
        "one_unit_SRNN.add(SimpleRNN(units=1, input_shape=(None, 1), activation='linear', use_bias=False))"
      ],
      "execution_count": 0,
      "outputs": []
    },
    {
      "cell_type": "code",
      "metadata": {
        "id": "EwepV7AVdGRp",
        "colab_type": "code",
        "colab": {},
        "outputId": "1baf613a-314e-4416-b77b-7a32d3be5e2e"
      },
      "source": [
        "one_unit_SRNN_weights = one_unit_SRNN.get_weights()\n",
        "one_unit_SRNN_weights"
      ],
      "execution_count": 0,
      "outputs": [
        {
          "output_type": "execute_result",
          "data": {
            "text/plain": [
              "[array([[-1.7195231]], dtype=float32), array([[-1.]], dtype=float32)]"
            ]
          },
          "metadata": {
            "tags": []
          },
          "execution_count": 13
        }
      ]
    },
    {
      "cell_type": "markdown",
      "metadata": {
        "id": "4sXyG-5PdGRx",
        "colab_type": "text"
      },
      "source": [
        "We can set the weights to whatever we want, to test out what happens with different weight values."
      ]
    },
    {
      "cell_type": "code",
      "metadata": {
        "id": "o_u5F0UEdGRz",
        "colab_type": "code",
        "colab": {},
        "outputId": "ac973e7d-35ec-4c8b-b9e6-d7e5e085f9e0"
      },
      "source": [
        "one_unit_SRNN_weights[0][0][0] = 1\n",
        "one_unit_SRNN_weights[1][0][0] = 1\n",
        "one_unit_SRNN.set_weights(one_unit_SRNN_weights)\n",
        "one_unit_SRNN.get_weights()"
      ],
      "execution_count": 0,
      "outputs": [
        {
          "output_type": "execute_result",
          "data": {
            "text/plain": [
              "[array([[1.]], dtype=float32), array([[1.]], dtype=float32)]"
            ]
          },
          "metadata": {
            "tags": []
          },
          "execution_count": 14
        }
      ]
    },
    {
      "cell_type": "markdown",
      "metadata": {
        "id": "RJfN7A_xdGR8",
        "colab_type": "text"
      },
      "source": [
        "We can then pass in different input values, to see what the model outputs.\n",
        "\n",
        "The code below passes in a single sample that has three time steps."
      ]
    },
    {
      "cell_type": "code",
      "metadata": {
        "id": "m8MR-wYKdGR-",
        "colab_type": "code",
        "colab": {},
        "outputId": "11f5c776-258e-401b-c3ee-fae42fd2a5b5"
      },
      "source": [
        "one_unit_SRNN.predict(numpy.array([ [[3], [3], [7]] ]))"
      ],
      "execution_count": 0,
      "outputs": [
        {
          "output_type": "execute_result",
          "data": {
            "text/plain": [
              "array([[13.]], dtype=float32)"
            ]
          },
          "metadata": {
            "tags": []
          },
          "execution_count": 15
        }
      ]
    },
    {
      "cell_type": "markdown",
      "metadata": {
        "id": "KUJNnNb7dGSI",
        "colab_type": "text"
      },
      "source": [
        "# Exercise 2a\n",
        "Figure out what the two weights in the one_unit_SRNN model control. Be sure to test your hypothesis thoroughly. Use different weights and different inputs."
      ]
    },
    {
      "cell_type": "code",
      "metadata": {
        "id": "lwXL0UXkdGSL",
        "colab_type": "code",
        "colab": {}
      },
      "source": [
        ""
      ],
      "execution_count": 0,
      "outputs": []
    },
    {
      "cell_type": "code",
      "metadata": {
        "id": "8hZPh_26dGSU",
        "colab_type": "code",
        "colab": {}
      },
      "source": [
        ""
      ],
      "execution_count": 0,
      "outputs": []
    },
    {
      "cell_type": "markdown",
      "metadata": {
        "id": "lyM6QPsddGSY",
        "colab_type": "text"
      },
      "source": [
        "## Slightly larger simple recurrent model"
      ]
    },
    {
      "cell_type": "code",
      "metadata": {
        "id": "_NMq_b24dGSb",
        "colab_type": "code",
        "colab": {}
      },
      "source": [
        "two_unit_SRNN = Sequential()\n",
        "two_unit_SRNN.add(SimpleRNN(units=2, input_shape=(None, 1), activation='linear', use_bias=False))"
      ],
      "execution_count": 0,
      "outputs": []
    },
    {
      "cell_type": "code",
      "metadata": {
        "id": "L89TqwhldGSk",
        "colab_type": "code",
        "colab": {},
        "outputId": "933fb3ab-452b-4950-f352-e52097ba4a9f"
      },
      "source": [
        "two_unit_SRNN_weights = two_unit_SRNN.get_weights()\n",
        "two_unit_SRNN_weights"
      ],
      "execution_count": 0,
      "outputs": [
        {
          "output_type": "execute_result",
          "data": {
            "text/plain": [
              "[array([[0.5136689, 0.7333714]], dtype=float32),\n",
              " array([[-0.05177475,  0.9986588 ],\n",
              "        [ 0.9986588 ,  0.05177475]], dtype=float32)]"
            ]
          },
          "metadata": {
            "tags": []
          },
          "execution_count": 17
        }
      ]
    },
    {
      "cell_type": "code",
      "metadata": {
        "id": "ArNp1SJDdGSt",
        "colab_type": "code",
        "colab": {},
        "outputId": "351ff31b-03e6-4802-effd-87bac72c3093"
      },
      "source": [
        "two_unit_SRNN_weights[0][0][0] = 1\n",
        "two_unit_SRNN_weights[0][0][1] = 1\n",
        "two_unit_SRNN_weights[1][0][0] = 0\n",
        "two_unit_SRNN_weights[1][0][1] = 1\n",
        "two_unit_SRNN_weights[1][1][0] = 0\n",
        "two_unit_SRNN_weights[1][1][1] = 1\n",
        "two_unit_SRNN.set_weights(two_unit_SRNN_weights)\n",
        "two_unit_SRNN.get_weights()"
      ],
      "execution_count": 0,
      "outputs": [
        {
          "output_type": "execute_result",
          "data": {
            "text/plain": [
              "[array([[1., 1.]], dtype=float32), array([[0., 1.],\n",
              "        [0., 1.]], dtype=float32)]"
            ]
          },
          "metadata": {
            "tags": []
          },
          "execution_count": 18
        }
      ]
    },
    {
      "cell_type": "markdown",
      "metadata": {
        "id": "oy2zSyQydGSy",
        "colab_type": "text"
      },
      "source": [
        "This passes in a single sample with four time steps."
      ]
    },
    {
      "cell_type": "code",
      "metadata": {
        "id": "stMVAxALdGS0",
        "colab_type": "code",
        "colab": {},
        "outputId": "5feddda3-6623-454f-c96b-57410d783842"
      },
      "source": [
        "two_unit_SRNN.predict(numpy.array([ [[3], [3], [7], [5]] ]))"
      ],
      "execution_count": 0,
      "outputs": [
        {
          "output_type": "execute_result",
          "data": {
            "text/plain": [
              "array([[ 5., 31.]], dtype=float32)"
            ]
          },
          "metadata": {
            "tags": []
          },
          "execution_count": 19
        }
      ]
    },
    {
      "cell_type": "markdown",
      "metadata": {
        "id": "S1oITYlOdGS5",
        "colab_type": "text"
      },
      "source": [
        "# Exercise 2b\n",
        "What do each of the six weights of the two_unit_SRNN control? Again, test out your hypotheses carefully."
      ]
    },
    {
      "cell_type": "code",
      "metadata": {
        "id": "VJWrDACqdGS7",
        "colab_type": "code",
        "colab": {}
      },
      "source": [
        ""
      ],
      "execution_count": 0,
      "outputs": []
    },
    {
      "cell_type": "code",
      "metadata": {
        "id": "t8wy4yzxdGTA",
        "colab_type": "code",
        "colab": {}
      },
      "source": [
        ""
      ],
      "execution_count": 0,
      "outputs": []
    },
    {
      "cell_type": "markdown",
      "metadata": {
        "id": "oeVp6xFjdGTF",
        "colab_type": "text"
      },
      "source": [
        "## Exploring LSTMs (Optional Extension to Exercise 2)\n"
      ]
    },
    {
      "cell_type": "code",
      "metadata": {
        "id": "0pwYViqwdGTG",
        "colab_type": "code",
        "colab": {}
      },
      "source": [
        "one_unit_LSTM = Sequential()\n",
        "one_unit_LSTM.add(LSTM(units=1, input_shape=(None, 1),\n",
        "                       activation='linear', recurrent_activation='linear',\n",
        "                       use_bias=False, unit_forget_bias=False,\n",
        "                       kernel_initializer='zeros',\n",
        "                       recurrent_initializer='zeros',\n",
        "                       return_sequences=True))"
      ],
      "execution_count": 0,
      "outputs": []
    },
    {
      "cell_type": "code",
      "metadata": {
        "id": "PsWSpEX2dGTM",
        "colab_type": "code",
        "colab": {},
        "outputId": "63d9fce0-6a4e-4f92-e42c-0d0cefe0688d"
      },
      "source": [
        "one_unit_LSTM_weights = one_unit_LSTM.get_weights()\n",
        "one_unit_LSTM_weights"
      ],
      "execution_count": 0,
      "outputs": [
        {
          "output_type": "execute_result",
          "data": {
            "text/plain": [
              "[array([[0., 0., 0., 0.]], dtype=float32),\n",
              " array([[0., 0., 0., 0.]], dtype=float32)]"
            ]
          },
          "metadata": {
            "tags": []
          },
          "execution_count": 21
        }
      ]
    },
    {
      "cell_type": "code",
      "metadata": {
        "id": "uW8VrD0GdGTQ",
        "colab_type": "code",
        "colab": {},
        "outputId": "48d049de-cae5-4999-c922-868ddd20c9ab"
      },
      "source": [
        "one_unit_LSTM_weights[0][0][0] = 1\n",
        "one_unit_LSTM_weights[0][0][1] = 0\n",
        "one_unit_LSTM_weights[0][0][2] = 1\n",
        "one_unit_LSTM_weights[0][0][3] = 1\n",
        "one_unit_LSTM_weights[1][0][0] = 0\n",
        "one_unit_LSTM_weights[1][0][1] = 0\n",
        "one_unit_LSTM_weights[1][0][2] = 0\n",
        "one_unit_LSTM_weights[1][0][3] = 0\n",
        "one_unit_LSTM.set_weights(one_unit_LSTM_weights)\n",
        "one_unit_LSTM.get_weights()"
      ],
      "execution_count": 0,
      "outputs": [
        {
          "output_type": "execute_result",
          "data": {
            "text/plain": [
              "[array([[1., 0., 1., 1.]], dtype=float32),\n",
              " array([[0., 0., 0., 0.]], dtype=float32)]"
            ]
          },
          "metadata": {
            "tags": []
          },
          "execution_count": 22
        }
      ]
    },
    {
      "cell_type": "code",
      "metadata": {
        "id": "LbpbaBi8dGTV",
        "colab_type": "code",
        "colab": {},
        "outputId": "4d3abc9a-363a-4c0e-b534-36a3f202a3d9"
      },
      "source": [
        "one_unit_LSTM.predict(numpy.array([ [[0], [1], [2], [4]] ]))"
      ],
      "execution_count": 0,
      "outputs": [
        {
          "output_type": "execute_result",
          "data": {
            "text/plain": [
              "array([[[ 0.],\n",
              "        [ 1.],\n",
              "        [ 8.],\n",
              "        [64.]]], dtype=float32)"
            ]
          },
          "metadata": {
            "tags": []
          },
          "execution_count": 23
        }
      ]
    },
    {
      "cell_type": "markdown",
      "metadata": {
        "id": "I2GJi0mDdGTa",
        "colab_type": "text"
      },
      "source": [
        "# Exercise 2c\n",
        "Conceptually, the [LSTM](http://colah.github.io/posts/2015-08-Understanding-LSTMs/) has several _gates_:\n",
        "\n",
        "* __Forget gate__: these weights allow some long-term memories to be forgotten.\n",
        "* __Input gate__: these weights decide what new information will be added to the context cell.\n",
        "* __Output gate__: these weights decide what pieces of the new information and updated context will be passed on to the output.\n",
        "\n",
        "It also has a __cell__ that can hold onto information from the current input (as well as things it has remembered from previous inputs), so that it can be used in later outputs.\n",
        "\n",
        "Identify which weights in the one_unit_LSTM model are connected with the context and which are associated with the three gates. This is considerably more difficult to do by looking at the inputs and outputs, so you could also treat this as a code reading exercise and look through the keras code to find the answer.\n",
        "\n",
        "_Note_: The output from the predict call is what the linked explanation calls $h_{t}$."
      ]
    },
    {
      "cell_type": "code",
      "metadata": {
        "id": "cbizMJ_4dGTf",
        "colab_type": "code",
        "colab": {}
      },
      "source": [
        ""
      ],
      "execution_count": 0,
      "outputs": []
    },
    {
      "cell_type": "code",
      "metadata": {
        "id": "B3QVOlzadGTj",
        "colab_type": "code",
        "colab": {}
      },
      "source": [
        ""
      ],
      "execution_count": 0,
      "outputs": []
    },
    {
      "cell_type": "markdown",
      "metadata": {
        "id": "60vEh8J3dGTr",
        "colab_type": "text"
      },
      "source": [
        "# Exercise Option 3: Set up your own RNN model for the Reuters Classification Problem\n",
        "\n",
        "Take the model from exercise 1 (imdb_lstm_model) and modify it to classify the [Reuters data](https://keras.io/datasets/#reuters-newswire-topics-classification).\n",
        "\n",
        "Think about what you are trying to predict in this case, and how you will have to change your model to deal with this."
      ]
    },
    {
      "cell_type": "code",
      "metadata": {
        "id": "TH-JRrVBdGTt",
        "colab_type": "code",
        "colab": {}
      },
      "source": [
        "from keras.datasets import reuters\n",
        "from keras.preprocessing import sequence\n",
        "from keras.models import Sequential\n",
        "from keras.layers import Embedding, LSTM, Dense"
      ],
      "execution_count": 0,
      "outputs": []
    },
    {
      "cell_type": "code",
      "metadata": {
        "id": "QvV9zafmdGTw",
        "colab_type": "code",
        "colab": {}
      },
      "source": [
        "(reuters_x_train, reuters_y_train), (reuters_x_test, reuters_y_test) = reuters.load_data()"
      ],
      "execution_count": 0,
      "outputs": []
    },
    {
      "cell_type": "code",
      "metadata": {
        "id": "XrSInAvydGT0",
        "colab_type": "code",
        "colab": {}
      },
      "source": [
        ""
      ],
      "execution_count": 0,
      "outputs": []
    },
    {
      "cell_type": "code",
      "metadata": {
        "id": "_wqhj_UcdGT5",
        "colab_type": "code",
        "colab": {}
      },
      "source": [
        ""
      ],
      "execution_count": 0,
      "outputs": []
    }
  ]
}